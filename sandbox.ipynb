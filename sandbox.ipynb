{
 "cells": [
  {
   "cell_type": "code",
   "execution_count": 2,
   "metadata": {},
   "outputs": [
    {
     "data": {
      "text/plain": [
       "{'segments': [{'text': ' Kurz informiert bei heise online. Mit der synthetischen Stimme von Isabel Grünewald.',\n",
       "   'start': 3.541,\n",
       "   'end': 21.049},\n",
       "  {'text': ' Das Portal Alle Störungen verzeichnet eine Spitze der Störungsmeldungen für Dienste wie Office 365, Minecraft oder den Microsoft Store. Die genaue Ursache der Netzprobleme ist noch unklar. Techniker von Microsoft haben jedoch bereits fehlerhafte Netzwerkpfade durch Konfigurationsänderungen überbrückt und melden eine Verbesserung der Verfügbarkeit.',\n",
       "   'start': 21.049,\n",
       "   'end': 42.961},\n",
       "  {'text': ' Die Europäische Kommission plant die Entwicklung eines Alarmsystems zur Durchsetzung des Digital Services Act. Das System soll automatisiert Beweise für Verstöße sammeln und die Einhaltung des Plattformgesetzes überwachen. Für den Auftrag stehen 12 Millionen Euro zur Verfügung. Der Gewinner des 36-monatigen Vertrags soll ein Frühwarnsystem einrichten, das technologische Entwicklungen sowie neue systemische Risiken oder digitale Bedrohungen durch Plattformen in Echtzeit überwacht.',\n",
       "   'start': 44.053,\n",
       "   'end': 73.524},\n",
       "  {'text': ' Apple hat die Drohung umgesetzt, neue KI-Funktionen vorerst nicht auf iPhones in Europa zu bringen. In der ersten Beta von iOS 18.1 ist Apple Intelligence zwar integriert, das Betriebssystem blockiert die Neuerungen jedoch, solange sich ein iPhone oder iPad in einem der 27 Staaten der Europäischen Union befindet.',\n",
       "   'start': 74.718,\n",
       "   'end': 95.776},\n",
       "  {'text': ' Apple hatte diese Blockade im Juni in Aussicht gestellt. Grund dafür seien regulatorische Unsicherheiten durch den Digital Markets Act. Spaniens Wettbewerbsbehörde hat eine Rekordstrafe von 413,2 Millionen Euro gegen das Online-Reisebüro Booking.com ausgesprochen.',\n",
       "   'start': 95.776,\n",
       "   'end': 115.759},\n",
       "  {'text': ' Grund für die Strafe ist der Vorwurf des ausbeuterischen Marktmachtmissbrauchs und des Missbrauchs der Marktmacht zum Ausschluss von Mitbewerbern. Booking.com hat angekündigt, Rechtsmittel gegen die noch nicht rechtskräftige Strafe einzulegen.',\n",
       "   'start': 115.759,\n",
       "   'end': 130.776},\n",
       "  {'text': ' Der Zahlungsdienstleister PayPal konnte im zweiten Quartal des Geschäftsjahres Umsatz und Gewinn deutlich steigern. Trotz Befürchtungen, dass das Kerngeschäft unter dem verstärkten Wettbewerb von Unternehmen wie Apple oder Google leiden könnte, stieg der Umsatz um 8 Prozent auf 7,89 Milliarden US-Dollar. Der Betriebsgewinn wuchs um 17 Prozent auf 1,33 Milliarden Dollar.',\n",
       "   'start': 130.776,\n",
       "   'end': 155.23},\n",
       "  {'text': ' Diese und weitere aktuelle Nachrichten finden Sie ausführlich auf heise.de',\n",
       "   'start': 155.23,\n",
       "   'end': 161.852}],\n",
       " 'language': 'de'}"
      ]
     },
     "execution_count": 2,
     "metadata": {},
     "output_type": "execute_result"
    }
   ],
   "source": [
    "from data_tools.utils import load_transcription\n",
    "\n",
    "video_path = 'tmp/Kurz informiert 31.07.2024 – früh.mp4'\n",
    "transcription_path = 'tmp/Kurz informiert 31.07.2024 – früh.mp4.mp3.json'\n",
    "\n",
    "transcription = load_transcription(transcription_path)\n",
    "transcription"
   ]
  },
  {
   "cell_type": "code",
   "execution_count": 3,
   "metadata": {},
   "outputs": [
    {
     "data": {
      "text/plain": [
       "[(0.04, 'screenshots/screenshot_0.png')]"
      ]
     },
     "execution_count": 3,
     "metadata": {},
     "output_type": "execute_result"
    }
   ],
   "source": [
    "from data_tools.utils import extract_screenshots\n",
    "\n",
    "screenshots = extract_screenshots(video_path, transcription)\n",
    "screenshots"
   ]
  },
  {
   "cell_type": "code",
   "execution_count": 5,
   "metadata": {},
   "outputs": [
    {
     "data": {
      "text/plain": [
       "[('screenshots/screenshot_0.png',\n",
       "  ' Kurz informiert bei heise online. Mit der synthetischen Stimme von Isabel Grünewald.  Das Portal Alle Störungen verzeichnet eine Spitze der Störungsmeldungen für Dienste wie Office 365, Minecraft oder den Microsoft Store. Die genaue Ursache der Netzprobleme ist noch unklar. Techniker von Microsoft haben jedoch bereits fehlerhafte Netzwerkpfade durch Konfigurationsänderungen überbrückt und melden eine Verbesserung der Verfügbarkeit.  Die Europäische Kommission plant die Entwicklung eines Alarmsystems zur Durchsetzung des Digital Services Act. Das System soll automatisiert Beweise für Verstöße sammeln und die Einhaltung des Plattformgesetzes überwachen. Für den Auftrag stehen 12 Millionen Euro zur Verfügung. Der Gewinner des 36-monatigen Vertrags soll ein Frühwarnsystem einrichten, das technologische Entwicklungen sowie neue systemische Risiken oder digitale Bedrohungen durch Plattformen in Echtzeit überwacht.  Apple hat die Drohung umgesetzt, neue KI-Funktionen vorerst nicht auf iPhones in Europa zu bringen. In der ersten Beta von iOS 18.1 ist Apple Intelligence zwar integriert, das Betriebssystem blockiert die Neuerungen jedoch, solange sich ein iPhone oder iPad in einem der 27 Staaten der Europäischen Union befindet.  Apple hatte diese Blockade im Juni in Aussicht gestellt. Grund dafür seien regulatorische Unsicherheiten durch den Digital Markets Act. Spaniens Wettbewerbsbehörde hat eine Rekordstrafe von 413,2 Millionen Euro gegen das Online-Reisebüro Booking.com ausgesprochen.  Grund für die Strafe ist der Vorwurf des ausbeuterischen Marktmachtmissbrauchs und des Missbrauchs der Marktmacht zum Ausschluss von Mitbewerbern. Booking.com hat angekündigt, Rechtsmittel gegen die noch nicht rechtskräftige Strafe einzulegen.  Der Zahlungsdienstleister PayPal konnte im zweiten Quartal des Geschäftsjahres Umsatz und Gewinn deutlich steigern. Trotz Befürchtungen, dass das Kerngeschäft unter dem verstärkten Wettbewerb von Unternehmen wie Apple oder Google leiden könnte, stieg der Umsatz um 8 Prozent auf 7,89 Milliarden US-Dollar. Der Betriebsgewinn wuchs um 17 Prozent auf 1,33 Milliarden Dollar.  Diese und weitere aktuelle Nachrichten finden Sie ausführlich auf heise.de')]"
      ]
     },
     "execution_count": 5,
     "metadata": {},
     "output_type": "execute_result"
    }
   ],
   "source": [
    "from data_tools.utils import associate_screenshots_with_transcription\n",
    "\n",
    "associated_data = associate_screenshots_with_transcription(screenshots, transcription)\n",
    "associated_data"
   ]
  },
  {
   "cell_type": "code",
   "execution_count": null,
   "metadata": {},
   "outputs": [],
   "source": []
  }
 ],
 "metadata": {
  "kernelspec": {
   "display_name": "Python 3",
   "language": "python",
   "name": "python3"
  },
  "language_info": {
   "codemirror_mode": {
    "name": "ipython",
    "version": 3
   },
   "file_extension": ".py",
   "mimetype": "text/x-python",
   "name": "python",
   "nbconvert_exporter": "python",
   "pygments_lexer": "ipython3",
   "version": "3.11.7"
  }
 },
 "nbformat": 4,
 "nbformat_minor": 2
}
